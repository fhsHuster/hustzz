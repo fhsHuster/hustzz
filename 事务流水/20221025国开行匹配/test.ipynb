{
 "cells": [
  {
   "cell_type": "markdown",
   "metadata": {},
   "source": [
    "# 使用说明\n",
    "##### 此为伍仁杰(废物)编写的测试版脚本，不保证一定好用\n",
    "1. 每天值班的小伙伴先登录国开行系统，贷款处理回执录入，不加查询条件，查询后点击左下角导出回执列表，筛选回执已录入的学生，再在待录入信息表格中将其去掉\n",
    "1. 点击全部运行即可"
   ]
  },
  {
   "cell_type": "code",
   "execution_count": 1,
   "metadata": {},
   "outputs": [],
   "source": [
    "import pandas as pd\n",
    "import pyautogui as pag\n",
    "import pyperclip\n",
    "import time\n",
    "import easygui\n",
    "import numpy as np"
   ]
  },
  {
   "cell_type": "code",
   "execution_count": 2,
   "metadata": {},
   "outputs": [
    {
     "ename": "ValueError",
     "evalue": "Invalid file path or buffer object type: <class 'NoneType'>",
     "output_type": "error",
     "traceback": [
      "\u001b[1;31m---------------------------------------------------------------------------\u001b[0m",
      "\u001b[1;31mValueError\u001b[0m                                Traceback (most recent call last)",
      "\u001b[1;32md:\\Documents\\Desktop\\代码克隆\\hustzz\\事务流水\\20220916国开行\\回执列表_2022-09-23.xls (1)\\test.ipynb Cell 3\u001b[0m in \u001b[0;36m<cell line: 2>\u001b[1;34m()\u001b[0m\n\u001b[0;32m      <a href='vscode-notebook-cell:/d%3A/Documents/Desktop/%E4%BB%A3%E7%A0%81%E5%85%8B%E9%9A%86/hustzz/%E4%BA%8B%E5%8A%A1%E6%B5%81%E6%B0%B4/20220916%E5%9B%BD%E5%BC%80%E8%A1%8C/%E5%9B%9E%E6%89%A7%E5%88%97%E8%A1%A8_2022-09-23.xls%20%281%29/test.ipynb#W2sZmlsZQ%3D%3D?line=0'>1</a>\u001b[0m file \u001b[39m=\u001b[39m easygui\u001b[39m.\u001b[39mfileopenbox(\u001b[39m\"\u001b[39m\u001b[39m打开待录入文件\u001b[39m\u001b[39m\"\u001b[39m)\n\u001b[1;32m----> <a href='vscode-notebook-cell:/d%3A/Documents/Desktop/%E4%BB%A3%E7%A0%81%E5%85%8B%E9%9A%86/hustzz/%E4%BA%8B%E5%8A%A1%E6%B5%81%E6%B0%B4/20220916%E5%9B%BD%E5%BC%80%E8%A1%8C/%E5%9B%9E%E6%89%A7%E5%88%97%E8%A1%A8_2022-09-23.xls%20%281%29/test.ipynb#W2sZmlsZQ%3D%3D?line=1'>2</a>\u001b[0m data \u001b[39m=\u001b[39m pd\u001b[39m.\u001b[39;49mread_excel(file)\n",
      "File \u001b[1;32md:\\ProgramData\\Anaconda\\lib\\site-packages\\pandas\\util\\_decorators.py:311\u001b[0m, in \u001b[0;36mdeprecate_nonkeyword_arguments.<locals>.decorate.<locals>.wrapper\u001b[1;34m(*args, **kwargs)\u001b[0m\n\u001b[0;32m    305\u001b[0m \u001b[39mif\u001b[39;00m \u001b[39mlen\u001b[39m(args) \u001b[39m>\u001b[39m num_allow_args:\n\u001b[0;32m    306\u001b[0m     warnings\u001b[39m.\u001b[39mwarn(\n\u001b[0;32m    307\u001b[0m         msg\u001b[39m.\u001b[39mformat(arguments\u001b[39m=\u001b[39marguments),\n\u001b[0;32m    308\u001b[0m         \u001b[39mFutureWarning\u001b[39;00m,\n\u001b[0;32m    309\u001b[0m         stacklevel\u001b[39m=\u001b[39mstacklevel,\n\u001b[0;32m    310\u001b[0m     )\n\u001b[1;32m--> 311\u001b[0m \u001b[39mreturn\u001b[39;00m func(\u001b[39m*\u001b[39margs, \u001b[39m*\u001b[39m\u001b[39m*\u001b[39mkwargs)\n",
      "File \u001b[1;32md:\\ProgramData\\Anaconda\\lib\\site-packages\\pandas\\io\\excel\\_base.py:457\u001b[0m, in \u001b[0;36mread_excel\u001b[1;34m(io, sheet_name, header, names, index_col, usecols, squeeze, dtype, engine, converters, true_values, false_values, skiprows, nrows, na_values, keep_default_na, na_filter, verbose, parse_dates, date_parser, thousands, decimal, comment, skipfooter, convert_float, mangle_dupe_cols, storage_options)\u001b[0m\n\u001b[0;32m    455\u001b[0m \u001b[39mif\u001b[39;00m \u001b[39mnot\u001b[39;00m \u001b[39misinstance\u001b[39m(io, ExcelFile):\n\u001b[0;32m    456\u001b[0m     should_close \u001b[39m=\u001b[39m \u001b[39mTrue\u001b[39;00m\n\u001b[1;32m--> 457\u001b[0m     io \u001b[39m=\u001b[39m ExcelFile(io, storage_options\u001b[39m=\u001b[39;49mstorage_options, engine\u001b[39m=\u001b[39;49mengine)\n\u001b[0;32m    458\u001b[0m \u001b[39melif\u001b[39;00m engine \u001b[39mand\u001b[39;00m engine \u001b[39m!=\u001b[39m io\u001b[39m.\u001b[39mengine:\n\u001b[0;32m    459\u001b[0m     \u001b[39mraise\u001b[39;00m \u001b[39mValueError\u001b[39;00m(\n\u001b[0;32m    460\u001b[0m         \u001b[39m\"\u001b[39m\u001b[39mEngine should not be specified when passing \u001b[39m\u001b[39m\"\u001b[39m\n\u001b[0;32m    461\u001b[0m         \u001b[39m\"\u001b[39m\u001b[39man ExcelFile - ExcelFile already has the engine set\u001b[39m\u001b[39m\"\u001b[39m\n\u001b[0;32m    462\u001b[0m     )\n",
      "File \u001b[1;32md:\\ProgramData\\Anaconda\\lib\\site-packages\\pandas\\io\\excel\\_base.py:1376\u001b[0m, in \u001b[0;36mExcelFile.__init__\u001b[1;34m(self, path_or_buffer, engine, storage_options)\u001b[0m\n\u001b[0;32m   1374\u001b[0m     ext \u001b[39m=\u001b[39m \u001b[39m\"\u001b[39m\u001b[39mxls\u001b[39m\u001b[39m\"\u001b[39m\n\u001b[0;32m   1375\u001b[0m \u001b[39melse\u001b[39;00m:\n\u001b[1;32m-> 1376\u001b[0m     ext \u001b[39m=\u001b[39m inspect_excel_format(\n\u001b[0;32m   1377\u001b[0m         content_or_path\u001b[39m=\u001b[39;49mpath_or_buffer, storage_options\u001b[39m=\u001b[39;49mstorage_options\n\u001b[0;32m   1378\u001b[0m     )\n\u001b[0;32m   1379\u001b[0m     \u001b[39mif\u001b[39;00m ext \u001b[39mis\u001b[39;00m \u001b[39mNone\u001b[39;00m:\n\u001b[0;32m   1380\u001b[0m         \u001b[39mraise\u001b[39;00m \u001b[39mValueError\u001b[39;00m(\n\u001b[0;32m   1381\u001b[0m             \u001b[39m\"\u001b[39m\u001b[39mExcel file format cannot be determined, you must specify \u001b[39m\u001b[39m\"\u001b[39m\n\u001b[0;32m   1382\u001b[0m             \u001b[39m\"\u001b[39m\u001b[39man engine manually.\u001b[39m\u001b[39m\"\u001b[39m\n\u001b[0;32m   1383\u001b[0m         )\n",
      "File \u001b[1;32md:\\ProgramData\\Anaconda\\lib\\site-packages\\pandas\\io\\excel\\_base.py:1250\u001b[0m, in \u001b[0;36minspect_excel_format\u001b[1;34m(content_or_path, storage_options)\u001b[0m\n\u001b[0;32m   1247\u001b[0m \u001b[39mif\u001b[39;00m \u001b[39misinstance\u001b[39m(content_or_path, \u001b[39mbytes\u001b[39m):\n\u001b[0;32m   1248\u001b[0m     content_or_path \u001b[39m=\u001b[39m BytesIO(content_or_path)\n\u001b[1;32m-> 1250\u001b[0m \u001b[39mwith\u001b[39;00m get_handle(\n\u001b[0;32m   1251\u001b[0m     content_or_path, \u001b[39m\"\u001b[39;49m\u001b[39mrb\u001b[39;49m\u001b[39m\"\u001b[39;49m, storage_options\u001b[39m=\u001b[39;49mstorage_options, is_text\u001b[39m=\u001b[39;49m\u001b[39mFalse\u001b[39;49;00m\n\u001b[0;32m   1252\u001b[0m ) \u001b[39mas\u001b[39;00m handle:\n\u001b[0;32m   1253\u001b[0m     stream \u001b[39m=\u001b[39m handle\u001b[39m.\u001b[39mhandle\n\u001b[0;32m   1254\u001b[0m     stream\u001b[39m.\u001b[39mseek(\u001b[39m0\u001b[39m)\n",
      "File \u001b[1;32md:\\ProgramData\\Anaconda\\lib\\site-packages\\pandas\\io\\common.py:670\u001b[0m, in \u001b[0;36mget_handle\u001b[1;34m(path_or_buf, mode, encoding, compression, memory_map, is_text, errors, storage_options)\u001b[0m\n\u001b[0;32m    667\u001b[0m     codecs\u001b[39m.\u001b[39mlookup_error(errors)\n\u001b[0;32m    669\u001b[0m \u001b[39m# open URLs\u001b[39;00m\n\u001b[1;32m--> 670\u001b[0m ioargs \u001b[39m=\u001b[39m _get_filepath_or_buffer(\n\u001b[0;32m    671\u001b[0m     path_or_buf,\n\u001b[0;32m    672\u001b[0m     encoding\u001b[39m=\u001b[39;49mencoding,\n\u001b[0;32m    673\u001b[0m     compression\u001b[39m=\u001b[39;49mcompression,\n\u001b[0;32m    674\u001b[0m     mode\u001b[39m=\u001b[39;49mmode,\n\u001b[0;32m    675\u001b[0m     storage_options\u001b[39m=\u001b[39;49mstorage_options,\n\u001b[0;32m    676\u001b[0m )\n\u001b[0;32m    678\u001b[0m handle \u001b[39m=\u001b[39m ioargs\u001b[39m.\u001b[39mfilepath_or_buffer\n\u001b[0;32m    679\u001b[0m handles: \u001b[39mlist\u001b[39m[BaseBuffer]\n",
      "File \u001b[1;32md:\\ProgramData\\Anaconda\\lib\\site-packages\\pandas\\io\\common.py:427\u001b[0m, in \u001b[0;36m_get_filepath_or_buffer\u001b[1;34m(filepath_or_buffer, encoding, compression, mode, storage_options)\u001b[0m\n\u001b[0;32m    423\u001b[0m \u001b[39mif\u001b[39;00m \u001b[39mnot\u001b[39;00m (\n\u001b[0;32m    424\u001b[0m     \u001b[39mhasattr\u001b[39m(filepath_or_buffer, \u001b[39m\"\u001b[39m\u001b[39mread\u001b[39m\u001b[39m\"\u001b[39m) \u001b[39mor\u001b[39;00m \u001b[39mhasattr\u001b[39m(filepath_or_buffer, \u001b[39m\"\u001b[39m\u001b[39mwrite\u001b[39m\u001b[39m\"\u001b[39m)\n\u001b[0;32m    425\u001b[0m ):\n\u001b[0;32m    426\u001b[0m     msg \u001b[39m=\u001b[39m \u001b[39mf\u001b[39m\u001b[39m\"\u001b[39m\u001b[39mInvalid file path or buffer object type: \u001b[39m\u001b[39m{\u001b[39;00m\u001b[39mtype\u001b[39m(filepath_or_buffer)\u001b[39m}\u001b[39;00m\u001b[39m\"\u001b[39m\n\u001b[1;32m--> 427\u001b[0m     \u001b[39mraise\u001b[39;00m \u001b[39mValueError\u001b[39;00m(msg)\n\u001b[0;32m    429\u001b[0m \u001b[39mreturn\u001b[39;00m IOArgs(\n\u001b[0;32m    430\u001b[0m     filepath_or_buffer\u001b[39m=\u001b[39mfilepath_or_buffer,\n\u001b[0;32m    431\u001b[0m     encoding\u001b[39m=\u001b[39mencoding,\n\u001b[1;32m   (...)\u001b[0m\n\u001b[0;32m    434\u001b[0m     mode\u001b[39m=\u001b[39mmode,\n\u001b[0;32m    435\u001b[0m )\n",
      "\u001b[1;31mValueError\u001b[0m: Invalid file path or buffer object type: <class 'NoneType'>"
     ]
    }
   ],
   "source": [
    "file = easygui.fileopenbox(\"打开待录入文件\")\n",
    "data = pd.read_excel(file)"
   ]
  },
  {
   "cell_type": "code",
   "execution_count": null,
   "metadata": {},
   "outputs": [],
   "source": [
    "def autoInput(df):\n",
    "    name = df['姓名'].rstrip() # 去除空格\n",
    "    sid = df['学号']\n",
    "    # amount = df['贷款金额']\n",
    "    school = df['院系']\n",
    "    code = df['回执校验码']\n",
    "    current_numid = df['序号']\n",
    "    price = df['欠费']\n",
    "    print(\"正在录入:{} {}\".format(current_numid, name))\n",
    "\n",
    "    pyperclip.copy(name)\n",
    "    pag.click(x=300, y=230, duration=1, clicks=3) #三击姓名框\n",
    "    pag.hotkey(\"ctrl\",\"v\")#粘贴名字\n",
    "    pyperclip.copy(school)\n",
    "    pag.click(x=300, y=200, duration=0.3, clicks=3) #三击院系框\n",
    "    pag.hotkey(\"ctrl\",\"v\")\n",
    "    pag.hotkey(\"alt\",\"c\")#查询\n",
    "\n",
    "    # 检测是否有只有单个查询结果\n",
    "    try:\n",
    "        time.sleep(3.5)\n",
    "        im = pag.screenshot(region=(50, 300, 250 ,50))\n",
    "        # im.show()\n",
    "        im = np.array(im)\n",
    "        flag = 0\n",
    "        for i in range(im.shape[1]):\n",
    "            if (im[10][i][0]<200 and im[10][i][1]<200 and im[10][i][2]<200): # 找第一行像素是否有黑色\n",
    "                flag = 1\n",
    "                break\n",
    "        if flag == 0:\n",
    "            raise Exception(\"{} {}:没有找到该学生个人信息，请手动录入。\".format(current_numid, name))\n",
    "        for i in range(im.shape[1]):\n",
    "            if (im[35][i][0]<200 and im[35][i][1]<200 and im[35][i][2]<200): # 找第二行像素是否有黑色\n",
    "                raise Exception(\"{} {}:该学生出现重名情况，请手动录入。\".format(current_numid, name))\n",
    "    except Exception as e:\n",
    "        raise\n",
    "\n",
    "    pag.click(x=100, y=310, duration=0.5)#点录入回执\n",
    "    # pag.click(x=800, y=430, duration=0.3, clicks=3) #三击院系\n",
    "    # pag.hotkey(\"ctrl\",\"v\")\n",
    "    pyperclip.copy(sid)\n",
    "    pag.click(x=800,y=400, duration=0.5, clicks=2)#双击学号\n",
    "    pag.hotkey(\"ctrl\",\"v\")\n",
    "    pag.click(x=1000, y=600, duration=0.3) #单击高校账户选择\n",
    "    pag.click(x=1000,y=590, duration=0.3) #选账户\n",
    "    pyperclip.copy(price)\n",
    "    pag.click(x=1160, y=580, duration=0.5, clicks=2) #双击欠费栏\n",
    "    pag.hotkey(\"ctrl\", \"v\") #粘贴欠费\n",
    "    pyperclip.copy(code)\n",
    "    pag.click(x=800, y=780, duration=0.3) #单击高校校验码\n",
    "    pag.hotkey(\"ctrl\",\"v\")#粘贴校验码\n",
    "    pag.click(x=600,y=890,duration=0.5)#点确定\n",
    "\n",
    "    # 检测回执校验码是否正确\n",
    "    try:\n",
    "        time.sleep(1)\n",
    "        im = pag.screenshot(region=(870, 470, 200 ,160))\n",
    "        # im.show()\n",
    "        im = np.array(im)\n",
    "        for i in range(im.shape[1]):\n",
    "            if (im[70][i][0]>250 and im[70][i][1]<230 and im[70][i][2]<10): #找像素是否那个警告标示的黄色\n",
    "                raise Exception(\"{} {}:出现警告标示,判断为意外状况,可能是回执校验码错误,请手动录入。\".format(current_numid, name))\n",
    "    except Exception as e:\n",
    "        raise\n",
    "\n",
    "    # 检测欠款金额是否为0\n",
    "    try:\n",
    "        im = pag.screenshot(region=(830, 460, 280 ,170))\n",
    "        # im.show()\n",
    "        im = np.array(im)\n",
    "        for i in range(im.shape[1]):\n",
    "            if (im[70][i][0]<10 and abs(im[70][i][1]-110)<10 and abs(im[70][i][2]-200)<10): #找像素是否那个警告标示的蓝色\n",
    "                pag.click(x=1040,y=610,duration=0.1)#点取消\n",
    "                raise Exception(\"{} {}:出现警告标示,判断为意外状况,可能是欠款费用为0,请手动录入。\".format(current_numid, name))\n",
    "    except Exception as e:\n",
    "        raise\n",
    "\n",
    "    time.sleep(2.5)\n",
    "    "
   ]
  },
  {
   "cell_type": "code",
   "execution_count": null,
   "metadata": {},
   "outputs": [
    {
     "name": "stdout",
     "output_type": "stream",
     "text": [
      "正在录入:780 陈俊澎\n",
      "正在录入:781 曹伟\n",
      "正在录入:782 曾培伟\n",
      "正在录入:783 种奕妃\n",
      "正在录入:784 徐梦宏\n",
      "正在录入:785 曹晓虹\n",
      "正在录入:786 张少岭\n",
      "正在录入:787 仝晨\n",
      "787 仝晨:没有找到该学生个人信息，请手动录入。\n"
     ]
    }
   ],
   "source": [
    "# 请修改start的值，使得程序从第start个学生开始录入\n",
    "start = 788\n",
    "\n",
    "pag.PAUSE = 0.3 #为pyautogui所有函数增加延迟，不需要多个sleep\n",
    "text = \"国开行录入脚本即将开始运行，请切换到国开行系统网页。\\n点击该窗口的\\\"确定\\\"则3秒后开始运行,点击\\\"取消\\\"则不运行。\\n程序运行中途如果想要强制停止,请把鼠标指针移至屏幕左上角。\"\n",
    "if(pag.confirm(text=text, title='运行提醒', buttons=['确定', '取消'])):\n",
    "    try:\n",
    "        time.sleep(3)\n",
    "        data[start:].apply(autoInput, axis=1)\n",
    "    except pag.FailSafeException as e:\n",
    "        pag.alert(text=\"检测到鼠标指针移动至屏幕左上角，程序已停止运行。正在录入的学生序号请在代码的输出面板查看。\", title='正常情况', button='OK')\n",
    "    except Exception as e:\n",
    "        pag.alert(text=e, title='异常情况', button='OK')\n",
    "        print(e)\n",
    "        exit(1)\n"
   ]
  }
 ],
 "metadata": {
  "kernelspec": {
   "display_name": "Python 3.9.12 ('base')",
   "language": "python",
   "name": "python3"
  },
  "language_info": {
   "codemirror_mode": {
    "name": "ipython",
    "version": 3
   },
   "file_extension": ".py",
   "mimetype": "text/x-python",
   "name": "python",
   "nbconvert_exporter": "python",
   "pygments_lexer": "ipython3",
   "version": "3.9.12"
  },
  "orig_nbformat": 4,
  "vscode": {
   "interpreter": {
    "hash": "146de41bdd921a4e49b5430ed435984d2f3b4e3da25c2db8b0d474b5a0f67c6d"
   }
  }
 },
 "nbformat": 4,
 "nbformat_minor": 2
}
